{
  "nbformat": 4,
  "nbformat_minor": 0,
  "metadata": {
    "colab": {
      "provenance": [],
      "include_colab_link": true
    },
    "kernelspec": {
      "name": "python3",
      "display_name": "Python 3"
    },
    "language_info": {
      "name": "python"
    }
  },
  "cells": [
    {
      "cell_type": "markdown",
      "metadata": {
        "id": "view-in-github",
        "colab_type": "text"
      },
      "source": [
        "<a href=\"https://colab.research.google.com/github/hannahclark5067/qj-f24/blob/main/notebooks/regression/regression_basics_class.ipynb\" target=\"_parent\"><img src=\"https://colab.research.google.com/assets/colab-badge.svg\" alt=\"Open In Colab\"/></a>"
      ]
    },
    {
      "cell_type": "markdown",
      "source": [
        "### **Overview**\n",
        "\n",
        "This Colab Notebook walks you through:\n",
        "\n",
        "(A) How to Fit a Linear Regression Model in Python using the library [statsmodels](https://www.statsmodels.org/stable/index.html). You will be asked to fill in the code between, like `### Fill in the Code ###`\n",
        "\n",
        "(B) How to think about what the library [statsmodels](https://www.statsmodels.org/stable/index.html) is doing when it fits a linear model"
      ],
      "metadata": {
        "id": "1rlp3gfOCsr5"
      }
    },
    {
      "cell_type": "code",
      "source": [],
      "metadata": {
        "id": "EI_TzrZBQDs0"
      },
      "execution_count": null,
      "outputs": []
    },
    {
      "cell_type": "markdown",
      "source": [
        "### **Clone Library**"
      ],
      "metadata": {
        "id": "DFbrseyC-fDE"
      }
    },
    {
      "cell_type": "code",
      "execution_count": 1,
      "metadata": {
        "colab": {
          "base_uri": "https://localhost:8080/"
        },
        "id": "6Oodh9Qc-MvJ",
        "outputId": "26039307-fec4-47a3-b6b1-ec51ad8fb639"
      },
      "outputs": [
        {
          "output_type": "stream",
          "name": "stdout",
          "text": [
            "Cloning into 'business-analytics'...\n",
            "remote: Enumerating objects: 995, done.\u001b[K\n",
            "remote: Counting objects: 100% (612/612), done.\u001b[K\n",
            "remote: Compressing objects: 100% (261/261), done.\u001b[K\n",
            "remote: Total 995 (delta 442), reused 429 (delta 328), pack-reused 383 (from 1)\u001b[K\n",
            "Receiving objects: 100% (995/995), 18.84 MiB | 16.72 MiB/s, done.\n",
            "Resolving deltas: 100% (570/570), done.\n"
          ]
        }
      ],
      "source": [
        "!git clone https://github.com/pharringtonp19/business-analytics.git"
      ]
    },
    {
      "cell_type": "markdown",
      "source": [
        "### **Import Packages**"
      ],
      "metadata": {
        "id": "f26Jqdel-hbb"
      }
    },
    {
      "cell_type": "code",
      "source": [
        "import pandas as pd\n",
        "pd.set_option('display.max_columns', None)\n",
        "import matplotlib.pyplot as plt\n",
        "import matplotlib.ticker as mticker\n",
        "import statsmodels.formula.api as smf\n",
        "from statsmodels.iolib.summary2 import summary_col\n",
        "import plotly.graph_objects as go\n",
        "import numpy as np\n",
        "import jax.numpy as jnp\n",
        "import jax\n",
        "import seaborn as sb"
      ],
      "metadata": {
        "id": "I7sWtc92-Was"
      },
      "execution_count": 2,
      "outputs": []
    },
    {
      "cell_type": "markdown",
      "source": [
        "### **Read In Data Set**"
      ],
      "metadata": {
        "id": "GSK0cZ4Z-koJ"
      }
    },
    {
      "cell_type": "code",
      "source": [
        "df = pd.read_csv(### FILL IN THE CORRECT FILE PATH HERE###)\n",
        "df.head()"
      ],
      "metadata": {
        "id": "cNM7U1qP-bE8",
        "outputId": "33ea29be-9edf-4fdf-d3f5-23df25ee0610",
        "colab": {
          "base_uri": "https://localhost:8080/",
          "height": 108
        }
      },
      "execution_count": 3,
      "outputs": [
        {
          "output_type": "error",
          "ename": "SyntaxError",
          "evalue": "incomplete input (<ipython-input-3-3a90111535ef>, line 2)",
          "traceback": [
            "\u001b[0;36m  File \u001b[0;32m\"<ipython-input-3-3a90111535ef>\"\u001b[0;36m, line \u001b[0;32m2\u001b[0m\n\u001b[0;31m    df.head()\u001b[0m\n\u001b[0m             ^\u001b[0m\n\u001b[0;31mSyntaxError\u001b[0m\u001b[0;31m:\u001b[0m incomplete input\n"
          ]
        }
      ]
    },
    {
      "cell_type": "markdown",
      "source": [
        "\\#1. Create a Scatterplot of Size and Price\n",
        "\n",
        "\n"
      ],
      "metadata": {
        "id": "AqHaWsG35DM5"
      }
    },
    {
      "cell_type": "code",
      "source": [
        "### ADD SCATTERPLOT HERE ###\n",
        "ax = plt.gca()\n",
        "ax.spines['right'].set_visible(False)\n",
        "ax.spines['top'].set_visible(False)\n",
        "ax.yaxis.set_major_formatter(mticker.FuncFormatter(lambda x, _: f'{int(x):,}'))\n",
        "plt.xlabel('Size', size=14)\n",
        "plt.title('Price', loc='left', size=14)\n",
        "plt.show()"
      ],
      "metadata": {
        "id": "4CDJS295uYrE"
      },
      "execution_count": null,
      "outputs": []
    },
    {
      "cell_type": "markdown",
      "source": [
        "\\#2. Creating a Linear Model\n",
        "\n",
        "\n",
        "\n",
        "$$\\text{Price}_i = \\beta_0 + \\beta_1 \\text{Size}_i + ɛ_i$$\n",
        "\n",
        "To create a linear model in Python we have to specify two components.\n",
        "\n",
        "A) What is the relationship of interest? Or more specifically, what is the outcome or dependent variable and what is the independent variable (also known as a control or a feature variable). We can do so in Python by create a string with the outcome to the left of a tilde sign and the independent variable to the right, as in: `Dependent ~ Independent`\n",
        "B) What is the name of the DataFrame where the variables are stored?\n",
        "\n",
        "To create a linear regression model, we simply pass both the of the components mentioned above as inputs to `smf.ols` as in ```linear_model = smf.ols('Dependent ~ Independent', data = df)```"
      ],
      "metadata": {
        "id": "7gVUWzRYvHLE"
      }
    },
    {
      "cell_type": "code",
      "source": [],
      "metadata": {
        "id": "AfMFyx9tGmB9"
      },
      "execution_count": null,
      "outputs": []
    },
    {
      "cell_type": "markdown",
      "source": [
        "\\#3. Estimating a Linear Model\n",
        "\n",
        "Having specified which linear relationship we're interested in estimating, we can estimate the model by calling the `.fit()` method on the linear model and save the output as some variable named `reg`. Note, the variable name is up to you."
      ],
      "metadata": {
        "id": "gEjjXWoRGmgN"
      }
    },
    {
      "cell_type": "code",
      "source": [],
      "metadata": {
        "id": "m6rov6oVG-VU"
      },
      "execution_count": null,
      "outputs": []
    },
    {
      "cell_type": "markdown",
      "source": [
        "\\#4. Showing Results\n",
        "\n",
        "If you fit the model correctly, then you can adjust the following code to show both the fitted parameters and the overall results.\n",
        "\n",
        "- We're using an f-string within a `print` statement to show the fitted parameters. Pass in `reg.params.values` within the curly braces.\n",
        "\n",
        "- To show the results in a table-like format (one that you could use to show your work in a final project), pass in `reg` with the `[]` argument of `summary_col`"
      ],
      "metadata": {
        "id": "JTRaQ9CyG_OW"
      }
    },
    {
      "cell_type": "code",
      "source": [
        "### PRINT FITTED PARAMETERS\n",
        "print(f\"Fitted Parameters: {### FILL THIS IN###}\")\n",
        "\n",
        "### PRESENT RESULTS\n",
        "print(summary_col([### FILL THIS IN###],\n",
        "                  stars=True,\n",
        "                  float_format='%0.2f'))"
      ],
      "metadata": {
        "id": "aNjUFFW1EcYA"
      },
      "execution_count": null,
      "outputs": []
    },
    {
      "cell_type": "markdown",
      "source": [
        "The Following Code Visualizes the Objective Function"
      ],
      "metadata": {
        "id": "mGvuMgPB8KBc"
      }
    },
    {
      "cell_type": "code",
      "source": [
        "# Your code for defining the functions and creating data points\n",
        "def model(params, x):\n",
        "    return params[0] + x * params[1]\n",
        "\n",
        "def loss_function(params, xs, ys_true):\n",
        "    ys_pred = model(params, xs)\n",
        "    return jnp.mean((ys_true - ys_pred) ** 2)\n",
        "\n",
        "# Create data points\n",
        "xs = jnp.array(df['size'].values)\n",
        "ys_true = jnp.array(df['price'].values)\n",
        "\n",
        "# Define parameter ranges and create a grid\n",
        "intercepts = jnp.linspace(0, 20_000, 100)\n",
        "slopes = jnp.linspace(0, 1000, 100)\n",
        "intercepts_grid, slopes_grid = jnp.meshgrid(intercepts, slopes)\n",
        "\n",
        "# Vectorize the loss computation over the grid\n",
        "params_grid = jnp.stack([intercepts_grid.ravel(), slopes_grid.ravel()], axis=-1)\n",
        "loss_values = jax.vmap(lambda params: loss_function(params, xs, ys_true))(params_grid)\n",
        "loss_values = loss_values.reshape(intercepts_grid.shape)\n",
        "\n",
        "# Get optimal parameters from regression\n",
        "eqn = smf.ols('price ~ size', data=df)\n",
        "results = eqn.fit()\n",
        "optimal_intercept, optimal_slope = results.params['Intercept'], results.params['size']\n",
        "optimal_loss = float(loss_function([optimal_intercept, optimal_slope], xs, ys_true))\n",
        "\n",
        "# Create the Plotly figure\n",
        "fig = go.Figure()\n",
        "\n",
        "# Add the surface for loss values\n",
        "fig.add_trace(go.Surface(\n",
        "    z=loss_values,\n",
        "    x=intercepts_grid,\n",
        "    y=slopes_grid,\n",
        "    colorscale='Viridis',\n",
        "    opacity=0.8,\n",
        "    name=\"Loss Surface\"\n",
        "))\n",
        "\n",
        "# Add the optimal point\n",
        "fig.add_trace(go.Scatter3d(\n",
        "    x=[optimal_intercept],\n",
        "    y=[optimal_slope],\n",
        "    z=[optimal_loss],\n",
        "    mode='markers',\n",
        "    marker=dict(size=8, color='red'),\n",
        "    name=\"Optimal Parameters\"\n",
        "))\n",
        "\n",
        "# Customize layout\n",
        "fig.update_layout(\n",
        "    title=\"3D Loss Surface with Optimal Parameters\",\n",
        "    scene=dict(\n",
        "        xaxis_title=\"Intercept\",\n",
        "        yaxis_title=\"Slope\",\n",
        "        zaxis_title=\"Loss (MSE)\"\n",
        "    )\n",
        ")\n",
        "\n",
        "# Show the plot\n",
        "fig.show()"
      ],
      "metadata": {
        "id": "f5ch17aE8I_f"
      },
      "execution_count": null,
      "outputs": []
    },
    {
      "cell_type": "markdown",
      "source": [
        "\\#5. Understanding what a linear model captures:\n",
        "\n",
        "Using the methods that we previouslly learned in pandas, `df[var1].cov(df[var2])`, `df[var1].var()`, divide the covariance of Price and Size by the variance of Size. How does this relate to the slope parameters?"
      ],
      "metadata": {
        "id": "QzNdKG0zJUQK"
      }
    },
    {
      "cell_type": "code",
      "source": [],
      "metadata": {
        "id": "zh2RHpO4JobX"
      },
      "execution_count": null,
      "outputs": []
    },
    {
      "cell_type": "markdown",
      "source": [
        "\\#6. Using the Model to Generate Predictions\n",
        "\n",
        "Having fit a linear model to the data, we have a pair of estimated values for the parameters. We can now create a function `model(params, x)` which can take in the estimated parameters and some value of size of the house and output our prediction. Implement this function"
      ],
      "metadata": {
        "id": "Ue2lBZHz9c7G"
      }
    },
    {
      "cell_type": "code",
      "source": [
        "\n"
      ],
      "metadata": {
        "id": "3cG_5EYV9XqI"
      },
      "execution_count": null,
      "outputs": []
    },
    {
      "cell_type": "markdown",
      "source": [
        "\\#7. Visulaizing Model Fit\n",
        "\n",
        "Python provides us with an easy way to see our models predictions on the dataset that we used to fit the model. Given that we named the variable corresponding to the output of `linear_model.fit()`, we can access the predicted values via `reg.fittedvalues`. Create a scatter plot of Size and Price, and overlay a plot of Size and the fitted values."
      ],
      "metadata": {
        "id": "vK66hpbWIjIY"
      }
    },
    {
      "cell_type": "code",
      "source": [
        "### ADD SCATTER PLOT HERE\n",
        "### ADD PLOT HERE\n",
        "ax = plt.gca()\n",
        "ax.spines['right'].set_visible(False)\n",
        "ax.spines['top'].set_visible(False)\n",
        "ax.yaxis.set_major_formatter(mticker.FuncFormatter(lambda x, _: f'{int(x):,}'))\n",
        "plt.xlabel('Size', size=14)\n",
        "plt.title('Price', loc='left', size=14)\n",
        "plt.show()"
      ],
      "metadata": {
        "id": "17ZbSi-uw_3t"
      },
      "execution_count": null,
      "outputs": []
    },
    {
      "cell_type": "markdown",
      "source": [
        "\\#8. Mean Residual\n",
        "\n",
        "In this notebook, we're fitting a linear model to our data. As the above figures highlight, a linear model will not perfectly predict Price for a given Size of the house. We refer to this \"prediction error\" as the residual.\n",
        "\n",
        "Compute the mean residual.\n",
        "\n",
        "$$r_i(\\beta_0, \\beta_1) = y_i - (\\beta_0 + \\beta_1 x_i)$$"
      ],
      "metadata": {
        "id": "GHciMQGwJ0oW"
      }
    },
    {
      "cell_type": "markdown",
      "source": [
        "\\#9. Visualing the Distribution of the Residual\n",
        "\n",
        "Using `reg.resid`, create a histogram which captures the distribution of the residuals. Then create a scatter plot of Size and the residuals"
      ],
      "metadata": {
        "id": "dfoKQwx2KQnH"
      }
    },
    {
      "cell_type": "markdown",
      "source": [
        "Use `.resid` to create a scatter plot of Size and the Residual Values\n",
        "\n"
      ],
      "metadata": {
        "id": "Bm4SVAN819oM"
      }
    },
    {
      "cell_type": "code",
      "source": [
        "### ADD HISTOGRAM HERE\n",
        "ax = plt.gca()\n",
        "ax.spines['right'].set_visible(False)\n",
        "ax.spines['top'].set_visible(False)\n",
        "plt.xlabel('Residuls', size=14)\n",
        "plt.title('Density', loc='left', size=14)\n",
        "plt.show()\n",
        "\n",
        "### ADD SCATTER PLOT HERE\n",
        "ax = plt.gca()\n",
        "ax.spines['right'].set_visible(False)\n",
        "ax.spines['top'].set_visible(False)\n",
        "ax.yaxis.set_major_formatter(mticker.FuncFormatter(lambda x, _: f'{int(x):,}'))\n",
        "plt.xlabel('Size', size=14)\n",
        "plt.title('Residuals', loc='left', size=14)\n",
        "plt.show()"
      ],
      "metadata": {
        "id": "M3cW1tIsyMGa"
      },
      "execution_count": null,
      "outputs": []
    },
    {
      "cell_type": "markdown",
      "source": [
        "\\#10. Let's explore the relationship between Size and the Residual numerically.\n",
        "\n",
        "(A) Create a new column in your DataFrame that is equal to the residuals.\n",
        "\n",
        "(B) Regress the residual on Size.\n",
        "\n",
        "Do the results surprise you?\n"
      ],
      "metadata": {
        "id": "zcMYpMwnzZpv"
      }
    },
    {
      "cell_type": "code",
      "source": [],
      "metadata": {
        "id": "iPI_0iIFyxqk"
      },
      "execution_count": null,
      "outputs": []
    },
    {
      "cell_type": "markdown",
      "source": [
        "\\#11. Visualizing Uncertainty\n",
        "\n",
        "We can use **new** plotting libraries, like Seaborn, for more advanced plotting techniques such as capturing the uncertainty in our estimate. Fill in the following value for `x` and `y` to show a scatter plot of size and price and a line of best fit with uncertainty estimates."
      ],
      "metadata": {
        "id": "JjB8ZKkG_C7R"
      }
    },
    {
      "cell_type": "code",
      "source": [
        "sb.regplot(x = ###FILL THIS IN###, y = ###FILL THIS IN###, data = df,\n",
        "line_kws = {'color': 'red'})\n",
        "ax = plt.gca()\n",
        "ax.spines['right'].set_visible(False)\n",
        "ax.spines['top'].set_visible(False)\n",
        "ax.yaxis.set_major_formatter(mticker.FuncFormatter(lambda x, _: f'{int(x):,}'))\n",
        "plt.xlabel('Size', size=14)\n",
        "plt.title('Price', loc='left', size=14)\n",
        "plt.ylabel('')\n",
        "plt.show()"
      ],
      "metadata": {
        "id": "5N2puqcy_Ete"
      },
      "execution_count": null,
      "outputs": []
    },
    {
      "cell_type": "markdown",
      "source": [
        "\\#12. Challenge\n",
        "\n",
        "Read in the WNBA dataset as a new dataframe and adjust the seaborn code above to visualize the relationship between Assists and Price. What is the read line (uncertainty) meant to capture?"
      ],
      "metadata": {
        "id": "CB3rIltgLnyS"
      }
    },
    {
      "cell_type": "code",
      "source": [],
      "metadata": {
        "id": "j3adW1fHL3PH"
      },
      "execution_count": null,
      "outputs": []
    }
  ]
}